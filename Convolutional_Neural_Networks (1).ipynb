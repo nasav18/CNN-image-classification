{
 "cells": [
  {
   "cell_type": "code",
   "execution_count": 1,
   "metadata": {
    "id": "suEPXBkzC92u"
   },
   "outputs": [],
   "source": [
    "import tensorflow as tf\n",
    "from keras.preprocessing.image import ImageDataGenerator"
   ]
  },
  {
   "cell_type": "code",
   "execution_count": 2,
   "metadata": {
    "colab": {
     "base_uri": "https://localhost:8080/",
     "height": 35
    },
    "id": "_c32yGTAHUOo",
    "outputId": "315792fa-e70c-46fa-cd5f-eaa94a5867de"
   },
   "outputs": [
    {
     "data": {
      "text/plain": [
       "'2.4.0'"
      ]
     },
     "execution_count": 2,
     "metadata": {},
     "output_type": "execute_result"
    }
   ],
   "source": [
    "tf.__version__"
   ]
  },
  {
   "cell_type": "code",
   "execution_count": 3,
   "metadata": {
    "id": "6X0FuQCXHXdW"
   },
   "outputs": [
    {
     "name": "stdout",
     "output_type": "stream",
     "text": [
      "Found 8000 images belonging to 2 classes.\n"
     ]
    }
   ],
   "source": [
    "train_datagen=ImageDataGenerator(rescale=1./255, shear_range=0.2, zoom_range=0.2, horizontal_flip=True)\n",
    "training_set=train_datagen.flow_from_directory(\n",
    "    'dataset/training_set',\n",
    "    target_size=(64, 64),\n",
    "    batch_size=32,\n",
    "    class_mode='binary'\n",
    ")"
   ]
  },
  {
   "cell_type": "code",
   "execution_count": 4,
   "metadata": {
    "id": "yHIe5TgpTNSi"
   },
   "outputs": [
    {
     "name": "stdout",
     "output_type": "stream",
     "text": [
      "Found 2000 images belonging to 2 classes.\n"
     ]
    }
   ],
   "source": [
    "test_datagen=ImageDataGenerator(rescale=1./255)\n",
    "test_set=test_datagen.flow_from_directory(\n",
    "    'dataset/test_set',\n",
    "    target_size=(64, 64),\n",
    "    batch_size=32,\n",
    "    class_mode='binary'\n",
    ")"
   ]
  },
  {
   "cell_type": "code",
   "execution_count": 5,
   "metadata": {
    "id": "4B1fXARhUyzk"
   },
   "outputs": [],
   "source": [
    "cnn=tf.keras.models.Sequential()"
   ]
  },
  {
   "cell_type": "code",
   "execution_count": 6,
   "metadata": {
    "id": "98KLc2u8Xpyr"
   },
   "outputs": [],
   "source": [
    "cnn.add(tf.keras.layers.Conv2D(filters=32, kernel_size=3, activation='relu', input_shape=[64,64, 3]))"
   ]
  },
  {
   "cell_type": "code",
   "execution_count": 7,
   "metadata": {
    "id": "zpWMTHt8X5ME"
   },
   "outputs": [],
   "source": [
    "cnn.add(tf.keras.layers.MaxPool2D(pool_size=2, strides=2))"
   ]
  },
  {
   "cell_type": "code",
   "execution_count": 8,
   "metadata": {
    "id": "jh06ZPlUZMDo"
   },
   "outputs": [],
   "source": [
    "cnn.add(tf.keras.layers.Conv2D(filters=32, kernel_size=3, activation='relu'))\n",
    "cnn.add(tf.keras.layers.MaxPool2D(pool_size=2, strides=2))"
   ]
  },
  {
   "cell_type": "code",
   "execution_count": 9,
   "metadata": {
    "id": "lNYN9R-OaArh"
   },
   "outputs": [],
   "source": [
    "cnn.add(tf.keras.layers.Flatten())"
   ]
  },
  {
   "cell_type": "code",
   "execution_count": 10,
   "metadata": {
    "id": "FqdZ0-4lbMth"
   },
   "outputs": [],
   "source": [
    "cnn.add(tf.keras.layers.Dense(units=128, activation='relu'))"
   ]
  },
  {
   "cell_type": "code",
   "execution_count": 11,
   "metadata": {
    "id": "pmI54yt0bTva"
   },
   "outputs": [],
   "source": [
    "cnn.add(tf.keras.layers.Dense(units=1, activation='sigmoid'))"
   ]
  },
  {
   "cell_type": "code",
   "execution_count": 12,
   "metadata": {
    "id": "1FfwFzrKb8v6"
   },
   "outputs": [],
   "source": [
    "cnn.compile(optimizer='adam', loss='binary_crossentropy', metrics=['accuracy'])"
   ]
  },
  {
   "cell_type": "code",
   "execution_count": 13,
   "metadata": {
    "id": "D4LGpHDmdDWh"
   },
   "outputs": [
    {
     "name": "stdout",
     "output_type": "stream",
     "text": [
      "Epoch 1/25\n",
      "250/250 [==============================] - 83s 325ms/step - loss: 0.6940 - accuracy: 0.5449 - val_loss: 0.6158 - val_accuracy: 0.6725\n",
      "Epoch 2/25\n",
      "250/250 [==============================] - 82s 326ms/step - loss: 0.6134 - accuracy: 0.6640 - val_loss: 0.5880 - val_accuracy: 0.7010\n",
      "Epoch 3/25\n",
      "250/250 [==============================] - 78s 311ms/step - loss: 0.5797 - accuracy: 0.6944 - val_loss: 0.5497 - val_accuracy: 0.7170\n",
      "Epoch 4/25\n",
      "250/250 [==============================] - 78s 314ms/step - loss: 0.5438 - accuracy: 0.7268 - val_loss: 0.5170 - val_accuracy: 0.7440\n",
      "Epoch 5/25\n",
      "250/250 [==============================] - 53s 213ms/step - loss: 0.5053 - accuracy: 0.7633 - val_loss: 0.4839 - val_accuracy: 0.7705\n",
      "Epoch 6/25\n",
      "250/250 [==============================] - 35s 142ms/step - loss: 0.4860 - accuracy: 0.7568 - val_loss: 0.4840 - val_accuracy: 0.7600\n",
      "Epoch 7/25\n",
      "250/250 [==============================] - 36s 145ms/step - loss: 0.4681 - accuracy: 0.7757 - val_loss: 0.4831 - val_accuracy: 0.7730\n",
      "Epoch 8/25\n",
      "250/250 [==============================] - 36s 146ms/step - loss: 0.4664 - accuracy: 0.7711 - val_loss: 0.4609 - val_accuracy: 0.7850\n",
      "Epoch 9/25\n",
      "250/250 [==============================] - 41s 165ms/step - loss: 0.4467 - accuracy: 0.7827 - val_loss: 0.4486 - val_accuracy: 0.7845\n",
      "Epoch 10/25\n",
      "250/250 [==============================] - 38s 151ms/step - loss: 0.4214 - accuracy: 0.8027 - val_loss: 0.4696 - val_accuracy: 0.7810\n",
      "Epoch 11/25\n",
      "250/250 [==============================] - 39s 155ms/step - loss: 0.4139 - accuracy: 0.8066 - val_loss: 0.4673 - val_accuracy: 0.7930\n",
      "Epoch 12/25\n",
      "250/250 [==============================] - 38s 150ms/step - loss: 0.4018 - accuracy: 0.8153 - val_loss: 0.4762 - val_accuracy: 0.7830\n",
      "Epoch 13/25\n",
      "250/250 [==============================] - 38s 153ms/step - loss: 0.4001 - accuracy: 0.8156 - val_loss: 0.4586 - val_accuracy: 0.7945\n",
      "Epoch 14/25\n",
      "250/250 [==============================] - 39s 154ms/step - loss: 0.3820 - accuracy: 0.8256 - val_loss: 0.4629 - val_accuracy: 0.7925\n",
      "Epoch 15/25\n",
      "250/250 [==============================] - 39s 154ms/step - loss: 0.3612 - accuracy: 0.8386 - val_loss: 0.4835 - val_accuracy: 0.7900\n",
      "Epoch 16/25\n",
      "250/250 [==============================] - 36s 144ms/step - loss: 0.3526 - accuracy: 0.8433 - val_loss: 0.4454 - val_accuracy: 0.7985\n",
      "Epoch 17/25\n",
      "250/250 [==============================] - 39s 155ms/step - loss: 0.3385 - accuracy: 0.8490 - val_loss: 0.5247 - val_accuracy: 0.7725\n",
      "Epoch 18/25\n",
      "250/250 [==============================] - 36s 143ms/step - loss: 0.3268 - accuracy: 0.8564 - val_loss: 0.5069 - val_accuracy: 0.7860\n",
      "Epoch 19/25\n",
      "250/250 [==============================] - 36s 143ms/step - loss: 0.3304 - accuracy: 0.8487 - val_loss: 0.4578 - val_accuracy: 0.7960\n",
      "Epoch 20/25\n",
      "250/250 [==============================] - 36s 144ms/step - loss: 0.3280 - accuracy: 0.8527 - val_loss: 0.5427 - val_accuracy: 0.7800\n",
      "Epoch 21/25\n",
      "250/250 [==============================] - 36s 142ms/step - loss: 0.3063 - accuracy: 0.8665 - val_loss: 0.6086 - val_accuracy: 0.7450\n",
      "Epoch 22/25\n",
      "250/250 [==============================] - 38s 151ms/step - loss: 0.2889 - accuracy: 0.8727 - val_loss: 0.4744 - val_accuracy: 0.8065\n",
      "Epoch 23/25\n",
      "250/250 [==============================] - 37s 148ms/step - loss: 0.2582 - accuracy: 0.8937 - val_loss: 0.5682 - val_accuracy: 0.7770\n",
      "Epoch 24/25\n",
      "250/250 [==============================] - 36s 143ms/step - loss: 0.2624 - accuracy: 0.8877 - val_loss: 0.5837 - val_accuracy: 0.7785\n",
      "Epoch 25/25\n",
      "250/250 [==============================] - 36s 146ms/step - loss: 0.2608 - accuracy: 0.8962 - val_loss: 0.4913 - val_accuracy: 0.8075\n"
     ]
    },
    {
     "data": {
      "text/plain": [
       "<tensorflow.python.keras.callbacks.History at 0x1f41e693d60>"
      ]
     },
     "execution_count": 13,
     "metadata": {},
     "output_type": "execute_result"
    }
   ],
   "source": [
    "cnn.fit(x=training_set, validation_data=test_set, epochs=25)"
   ]
  },
  {
   "cell_type": "code",
   "execution_count": 16,
   "metadata": {
    "id": "1JsRRbjDejGk"
   },
   "outputs": [],
   "source": [
    "import numpy as np\n",
    "from keras.preprocessing import image\n",
    "test_image=image.load_img('dataset/single_prediction/cat_or_dog_2.jpg', target_size=(64, 64))\n",
    "test_image=image.img_to_array(test_image)\n",
    "test_image=np.expand_dims(test_image, axis=0)\n",
    "result=cnn.predict(test_image)\n",
    "training_set.class_indices\n",
    "if result[0][0]==1:\n",
    "  prediction='dog'\n",
    "else:\n",
    "  prediction='cat'"
   ]
  },
  {
   "cell_type": "code",
   "execution_count": 17,
   "metadata": {
    "id": "9rC8P6eIl8nt"
   },
   "outputs": [
    {
     "name": "stdout",
     "output_type": "stream",
     "text": [
      "cat\n"
     ]
    }
   ],
   "source": [
    "print(prediction)"
   ]
  },
  {
   "cell_type": "code",
   "execution_count": null,
   "metadata": {},
   "outputs": [],
   "source": []
  }
 ],
 "metadata": {
  "colab": {
   "collapsed_sections": [],
   "name": "Convolutional_Neural_Networks.ipynb",
   "provenance": []
  },
  "kernelspec": {
   "display_name": "Python 3",
   "language": "python",
   "name": "python3"
  },
  "language_info": {
   "codemirror_mode": {
    "name": "ipython",
    "version": 3
   },
   "file_extension": ".py",
   "mimetype": "text/x-python",
   "name": "python",
   "nbconvert_exporter": "python",
   "pygments_lexer": "ipython3",
   "version": "3.8.5"
  }
 },
 "nbformat": 4,
 "nbformat_minor": 1
}
